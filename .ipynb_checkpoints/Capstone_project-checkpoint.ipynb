{
 "cells": [
  {
   "cell_type": "code",
   "execution_count": 4,
   "id": "8c6f3325-ffd3-4c1d-89f9-a23aaa3f5157",
   "metadata": {},
   "outputs": [
    {
     "name": "stdout",
     "output_type": "stream",
     "text": [
      "Requirement already satisfied: mysql-connector-python in /opt/anaconda3/lib/python3.12/site-packages (9.3.0)\n"
     ]
    }
   ],
   "source": [
    "!pip install mysql-connector-python"
   ]
  },
  {
   "cell_type": "code",
   "execution_count": 6,
   "id": "a810c1e7-39be-4676-8039-9c370b0de44d",
   "metadata": {},
   "outputs": [],
   "source": [
    "import mysql.connector as connector"
   ]
  },
  {
   "cell_type": "code",
   "execution_count": 10,
   "id": "2c0303a5-a68c-471f-9d07-629f137e9774",
   "metadata": {},
   "outputs": [],
   "source": [
    "connection = connector.connect(user=\"little_lemon\", password=\"littlelemon\", db=\"LittleLemonDB\")"
   ]
  },
  {
   "cell_type": "code",
   "execution_count": 16,
   "id": "1f7799f9-9396-4ee2-bf88-62f30ecfa69a",
   "metadata": {},
   "outputs": [],
   "source": [
    "sql = connection.cursor()"
   ]
  },
  {
   "cell_type": "code",
   "execution_count": 18,
   "id": "d0d52c4b-3ef6-477a-ba8c-d7e6463332d6",
   "metadata": {},
   "outputs": [],
   "source": [
    "show_tables_query = \"SHOW tables\" \n",
    "sql.execute(show_tables_query)"
   ]
  },
  {
   "cell_type": "code",
   "execution_count": 20,
   "id": "6ae6e973-be57-49b8-aa38-a91c8ed27f19",
   "metadata": {},
   "outputs": [
    {
     "name": "stdout",
     "output_type": "stream",
     "text": [
      "[('Booking',), ('Customer',), ('Menu',), ('Order_delivery_status',), ('order_menu',), ('Orders',), ('ordersview',), ('Staff',)]\n"
     ]
    }
   ],
   "source": [
    "results = sql.fetchall()\n",
    "print(results)"
   ]
  },
  {
   "cell_type": "code",
   "execution_count": null,
   "id": "5514dbad-e631-43a3-948f-bb2fb3ebed95",
   "metadata": {},
   "outputs": [],
   "source": [
    "query = \"\"\"\n",
    "SELECT \n",
    "    CONCAT(Customer.first_name, ' ', Customer.last_name) AS full_name,\n",
    "    Customer.email,\n",
    "    Orders.total_cost\n",
    "FROM \n",
    "    Customer\n",
    "INNER JOIN Booking ON Customer.customer_id = Booking.customer_id\n",
    "INNER JOIN Orders ON Booking.booking_id = Orders.booking_id\n",
    "WHERE \n",
    "    Orders.total_cost > 60;\n",
    "\"\"\"\n",
    "\n",
    "sql.execute(query)\n",
    "\n",
    "results = sql.fetchall()\n",
    "for row in results:\n",
    "    print(\"Name:\", row[0], \"| Contact:\", row[1], \"| Bill: $\", row[2])"
   ]
  },
  {
   "cell_type": "markdown",
   "id": "9ca40eb1-ebc5-411b-9cc8-eb212ea74e39",
   "metadata": {},
   "source": [
    "***Won't get results as the tables are empty***"
   ]
  },
  {
   "cell_type": "code",
   "execution_count": null,
   "id": "4216a962-0348-4b38-8df4-b53d79f97621",
   "metadata": {},
   "outputs": [],
   "source": []
  }
 ],
 "metadata": {
  "kernelspec": {
   "display_name": "Python [conda env:base] *",
   "language": "python",
   "name": "conda-base-py"
  },
  "language_info": {
   "codemirror_mode": {
    "name": "ipython",
    "version": 3
   },
   "file_extension": ".py",
   "mimetype": "text/x-python",
   "name": "python",
   "nbconvert_exporter": "python",
   "pygments_lexer": "ipython3",
   "version": "3.12.2"
  }
 },
 "nbformat": 4,
 "nbformat_minor": 5
}
